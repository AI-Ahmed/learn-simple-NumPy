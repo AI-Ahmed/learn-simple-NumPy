{
 "cells": [
  {
   "cell_type": "markdown",
   "metadata": {},
   "source": [
    "## Python Library Name: NumPy - NUMerical PYthon\n",
    "---\n",
    "***used for scientific computing and data analysis***\n",
    "\n",
    "***uses n-dimensional, homogenous objects (`ndarray`)***\n",
    "\n",
    "***Provide tools for integrating C, C++ etc.***\n",
    "\n",
    "Power of NumPy is N-dimensional object which is in the form of `rows` and `columns`\n",
    "\n",
    "**Why NumPy? Why can't list/tuple/ set. etc**\n",
    "- Fast\n",
    "- Less Memory\n",
    "- Convenient\n",
    "- Vectorized code (Code does not contain explicit looping and indexing..etc)\n",
    "---\n"
   ]
  },
  {
   "cell_type": "markdown",
   "metadata": {},
   "source": [
    "## NumPy Fundamentals\n",
    "---"
   ]
  },
  {
   "cell_type": "code",
   "execution_count": 2,
   "metadata": {},
   "outputs": [
    {
     "name": "stdout",
     "output_type": "stream",
     "text": [
      "[10 20 30 40 50]\n",
      "<class 'numpy.ndarray'>\n",
      "[10 20 30]\n",
      "<class 'numpy.ndarray'>\n"
     ]
    }
   ],
   "source": [
    "# import the NumPy module\n",
    "import numpy as np\n",
    "\n",
    "# Creating 1D array\n",
    "fromList_to_1dArray = np.array([10,20,30,40,50])\n",
    "fromTuple_to_1dArray = np.array((10,20,30))\n",
    "\n",
    "print(fromList_to_1dArray)\n",
    "print(type(fromList_to_1dArray))\n",
    "\n",
    "print(fromTuple_to_1dArray)\n",
    "print(type(fromTuple_to_1dArray))"
   ]
  },
  {
   "cell_type": "code",
   "execution_count": 6,
   "metadata": {},
   "outputs": [
    {
     "data": {
      "text/plain": [
       "array([[ 10,  20,  30,  40,  50],\n",
       "       [ 60,  70,  80,  90, 100]])"
      ]
     },
     "execution_count": 6,
     "metadata": {},
     "output_type": "execute_result"
    }
   ],
   "source": [
    "# Creating 2D array\n",
    "fromList_to_2dArray = np.array([[10,20,30,40,50], [60,70,80,90,100]])\n",
    "fromList_to_2dArray"
   ]
  },
  {
   "cell_type": "code",
   "execution_count": 7,
   "metadata": {},
   "outputs": [
    {
     "name": "stdout",
     "output_type": "stream",
     "text": [
      "[11 22 33 44 55]\n",
      "<class 'numpy.ndarray'>\n"
     ]
    }
   ],
   "source": [
    "num_array1 = np.array([1,2,3,4,5])\n",
    "num_array2 = np.array([10,20,30,40,50])\n",
    "summa = num_array1 + num_array2\n",
    "print(summa)\n",
    "print(type(summa))"
   ]
  },
  {
   "cell_type": "code",
   "execution_count": 50,
   "metadata": {},
   "outputs": [
    {
     "data": {
      "text/plain": [
       "array([11., 22., 33., 44., 55.])"
      ]
     },
     "execution_count": 50,
     "metadata": {},
     "output_type": "execute_result"
    }
   ],
   "source": [
    "# lets convert summa to float array\n",
    "summa_float = np.array(summa,dtype=float)\n",
    "summa_float\n"
   ]
  },
  {
   "cell_type": "code",
   "execution_count": 55,
   "metadata": {},
   "outputs": [
    {
     "name": "stdout",
     "output_type": "stream",
     "text": [
      "[11. 22. 33.]\n",
      "11.0\n"
     ]
    }
   ],
   "source": [
    "# Lets slicing the actual elements\n",
    "print(summa_float[0:3])\n",
    "print(summa_float[0:3][0])"
   ]
  },
  {
   "cell_type": "markdown",
   "metadata": {},
   "source": [
    "---"
   ]
  },
  {
   "cell_type": "markdown",
   "metadata": {},
   "source": [
    "## How to initialize np arrays when size is known\n",
    "----\n",
    "***Functions that are used to do so are:***\n",
    "- `np.arange()`: Array creation with defined increments.\n",
    "- `np.zeros()`: Array of 0s.\n",
    "- `np.ones()`: Array of 1s.\n",
    "- `np.random.random()`: Array of random numbers\n",
    "- `np.random.randint()`: Random array of integers within a particular range.\n",
    "- `np.linespace()`: Array of fixed length.\n",
    "- `np.full()`: Constant array of any number `n`.\n",
    "- `np.eye()`: Identity matrix array (Pivot)\n",
    "- `np.tile()`: Array is going to be created many times.\n"
   ]
  },
  {
   "cell_type": "code",
   "execution_count": 38,
   "metadata": {},
   "outputs": [
    {
     "data": {
      "text/plain": [
       "array([ 1,  3,  5,  7,  9, 11, 13])"
      ]
     },
     "execution_count": 38,
     "metadata": {},
     "output_type": "execute_result"
    }
   ],
   "source": [
    "# Let's try some of these functions\n",
    "step_by_2 = np.arange(1,15, 2)\n",
    "step_by_2"
   ]
  },
  {
   "cell_type": "code",
   "execution_count": 45,
   "metadata": {},
   "outputs": [
    {
     "data": {
      "text/plain": [
       "array([[0., 0., 0., 0., 0.],\n",
       "       [0., 0., 0., 0., 0.],\n",
       "       [0., 0., 0., 0., 0.],\n",
       "       [0., 0., 0., 0., 0.],\n",
       "       [0., 0., 0., 0., 0.]])"
      ]
     },
     "execution_count": 45,
     "metadata": {},
     "output_type": "execute_result"
    }
   ],
   "source": [
    "# zeros_func = np.zeros(5)\n",
    "zeros_func = np.zeros((5,5))\n",
    "zeros_func\n"
   ]
  },
  {
   "cell_type": "code",
   "execution_count": 43,
   "metadata": {},
   "outputs": [
    {
     "data": {
      "text/plain": [
       "array([[1., 1., 1., 1.],\n",
       "       [1., 1., 1., 1.]])"
      ]
     },
     "execution_count": 43,
     "metadata": {},
     "output_type": "execute_result"
    }
   ],
   "source": [
    "np.ones((2,4))"
   ]
  },
  {
   "cell_type": "code",
   "execution_count": 2,
   "metadata": {},
   "outputs": [
    {
     "data": {
      "text/html": [
       "<div>\n",
       "<style scoped>\n",
       "    .dataframe tbody tr th:only-of-type {\n",
       "        vertical-align: middle;\n",
       "    }\n",
       "\n",
       "    .dataframe tbody tr th {\n",
       "        vertical-align: top;\n",
       "    }\n",
       "\n",
       "    .dataframe thead th {\n",
       "        text-align: right;\n",
       "    }\n",
       "</style>\n",
       "<table border=\"1\" class=\"dataframe\">\n",
       "  <thead>\n",
       "    <tr style=\"text-align: right;\">\n",
       "      <th></th>\n",
       "      <th>0</th>\n",
       "      <th>1</th>\n",
       "      <th>2</th>\n",
       "      <th>3</th>\n",
       "      <th>4</th>\n",
       "    </tr>\n",
       "  </thead>\n",
       "  <tbody>\n",
       "    <tr>\n",
       "      <th>4</th>\n",
       "      <td>0.140656</td>\n",
       "      <td>0.196823</td>\n",
       "      <td>0.715649</td>\n",
       "      <td>0.561048</td>\n",
       "      <td>0.458284</td>\n",
       "    </tr>\n",
       "    <tr>\n",
       "      <th>0</th>\n",
       "      <td>0.444758</td>\n",
       "      <td>0.141714</td>\n",
       "      <td>0.127848</td>\n",
       "      <td>0.180880</td>\n",
       "      <td>0.501842</td>\n",
       "    </tr>\n",
       "    <tr>\n",
       "      <th>2</th>\n",
       "      <td>0.455667</td>\n",
       "      <td>0.730533</td>\n",
       "      <td>0.592672</td>\n",
       "      <td>0.495963</td>\n",
       "      <td>0.997068</td>\n",
       "    </tr>\n",
       "    <tr>\n",
       "      <th>3</th>\n",
       "      <td>0.482258</td>\n",
       "      <td>0.542189</td>\n",
       "      <td>0.128351</td>\n",
       "      <td>0.001483</td>\n",
       "      <td>0.385764</td>\n",
       "    </tr>\n",
       "    <tr>\n",
       "      <th>1</th>\n",
       "      <td>0.677926</td>\n",
       "      <td>0.533984</td>\n",
       "      <td>0.945581</td>\n",
       "      <td>0.646368</td>\n",
       "      <td>0.463329</td>\n",
       "    </tr>\n",
       "  </tbody>\n",
       "</table>\n",
       "</div>"
      ],
      "text/plain": [
       "          0         1         2         3         4\n",
       "4  0.140656  0.196823  0.715649  0.561048  0.458284\n",
       "0  0.444758  0.141714  0.127848  0.180880  0.501842\n",
       "2  0.455667  0.730533  0.592672  0.495963  0.997068\n",
       "3  0.482258  0.542189  0.128351  0.001483  0.385764\n",
       "1  0.677926  0.533984  0.945581  0.646368  0.463329"
      ]
     },
     "execution_count": 2,
     "metadata": {},
     "output_type": "execute_result"
    }
   ],
   "source": [
    "import pandas as pd\n",
    "import numpy as np\n",
    "\n",
    "rand = np.random.random((5,5))   #float random numbers\n",
    "data = pd.DataFrame(rand)\n",
    "# lets sort it\n",
    "data.sort_values(by=0, ascending=True)"
   ]
  },
  {
   "cell_type": "code",
   "execution_count": 6,
   "metadata": {},
   "outputs": [
    {
     "data": {
      "text/html": [
       "<div>\n",
       "<style scoped>\n",
       "    .dataframe tbody tr th:only-of-type {\n",
       "        vertical-align: middle;\n",
       "    }\n",
       "\n",
       "    .dataframe tbody tr th {\n",
       "        vertical-align: top;\n",
       "    }\n",
       "\n",
       "    .dataframe thead th {\n",
       "        text-align: right;\n",
       "    }\n",
       "</style>\n",
       "<table border=\"1\" class=\"dataframe\">\n",
       "  <thead>\n",
       "    <tr style=\"text-align: right;\">\n",
       "      <th></th>\n",
       "      <th>0</th>\n",
       "      <th>1</th>\n",
       "      <th>2</th>\n",
       "      <th>3</th>\n",
       "      <th>4</th>\n",
       "    </tr>\n",
       "  </thead>\n",
       "  <tbody>\n",
       "    <tr>\n",
       "      <th>0</th>\n",
       "      <td>6</td>\n",
       "      <td>4</td>\n",
       "      <td>6</td>\n",
       "      <td>9</td>\n",
       "      <td>6</td>\n",
       "    </tr>\n",
       "    <tr>\n",
       "      <th>1</th>\n",
       "      <td>9</td>\n",
       "      <td>5</td>\n",
       "      <td>1</td>\n",
       "      <td>5</td>\n",
       "      <td>6</td>\n",
       "    </tr>\n",
       "    <tr>\n",
       "      <th>2</th>\n",
       "      <td>2</td>\n",
       "      <td>6</td>\n",
       "      <td>3</td>\n",
       "      <td>8</td>\n",
       "      <td>2</td>\n",
       "    </tr>\n",
       "    <tr>\n",
       "      <th>3</th>\n",
       "      <td>8</td>\n",
       "      <td>3</td>\n",
       "      <td>4</td>\n",
       "      <td>1</td>\n",
       "      <td>2</td>\n",
       "    </tr>\n",
       "    <tr>\n",
       "      <th>4</th>\n",
       "      <td>7</td>\n",
       "      <td>1</td>\n",
       "      <td>9</td>\n",
       "      <td>1</td>\n",
       "      <td>5</td>\n",
       "    </tr>\n",
       "    <tr>\n",
       "      <th>5</th>\n",
       "      <td>9</td>\n",
       "      <td>7</td>\n",
       "      <td>2</td>\n",
       "      <td>4</td>\n",
       "      <td>5</td>\n",
       "    </tr>\n",
       "    <tr>\n",
       "      <th>6</th>\n",
       "      <td>5</td>\n",
       "      <td>1</td>\n",
       "      <td>8</td>\n",
       "      <td>7</td>\n",
       "      <td>1</td>\n",
       "    </tr>\n",
       "    <tr>\n",
       "      <th>7</th>\n",
       "      <td>2</td>\n",
       "      <td>8</td>\n",
       "      <td>4</td>\n",
       "      <td>4</td>\n",
       "      <td>5</td>\n",
       "    </tr>\n",
       "    <tr>\n",
       "      <th>8</th>\n",
       "      <td>5</td>\n",
       "      <td>9</td>\n",
       "      <td>9</td>\n",
       "      <td>3</td>\n",
       "      <td>7</td>\n",
       "    </tr>\n",
       "    <tr>\n",
       "      <th>9</th>\n",
       "      <td>5</td>\n",
       "      <td>5</td>\n",
       "      <td>6</td>\n",
       "      <td>3</td>\n",
       "      <td>6</td>\n",
       "    </tr>\n",
       "  </tbody>\n",
       "</table>\n",
       "</div>"
      ],
      "text/plain": [
       "   0  1  2  3  4\n",
       "0  6  4  6  9  6\n",
       "1  9  5  1  5  6\n",
       "2  2  6  3  8  2\n",
       "3  8  3  4  1  2\n",
       "4  7  1  9  1  5\n",
       "5  9  7  2  4  5\n",
       "6  5  1  8  7  1\n",
       "7  2  8  4  4  5\n",
       "8  5  9  9  3  7\n",
       "9  5  5  6  3  6"
      ]
     },
     "execution_count": 6,
     "metadata": {},
     "output_type": "execute_result"
    }
   ],
   "source": [
    "randint = np.random.randint(low=1, high=10, size=(10,5), dtype=int)   #integers numbers\n",
    "pd.DataFrame(randint)"
   ]
  },
  {
   "cell_type": "code",
   "execution_count": 32,
   "metadata": {},
   "outputs": [
    {
     "data": {
      "text/plain": [
       "array([[3, 3, 3, 3],\n",
       "       [3, 3, 3, 3]])"
      ]
     },
     "execution_count": 32,
     "metadata": {},
     "output_type": "execute_result"
    }
   ],
   "source": [
    "np.full((2,4),3)"
   ]
  },
  {
   "cell_type": "code",
   "execution_count": 35,
   "metadata": {},
   "outputs": [
    {
     "data": {
      "text/plain": [
       "array([[1, 0, 0, 0, 0],\n",
       "       [0, 1, 0, 0, 0],\n",
       "       [0, 0, 1, 0, 0],\n",
       "       [0, 0, 0, 1, 0],\n",
       "       [0, 0, 0, 0, 1]])"
      ]
     },
     "execution_count": 35,
     "metadata": {},
     "output_type": "execute_result"
    }
   ],
   "source": [
    "# Creating a Pivot matrix\n",
    "matrix = np.eye(5, dtype=int)    #5x5\n",
    "matrix"
   ]
  },
  {
   "cell_type": "code",
   "execution_count": 41,
   "metadata": {},
   "outputs": [
    {
     "data": {
      "text/plain": [
       "array([0. , 0.5, 1. , 1.5, 2. ])"
      ]
     },
     "execution_count": 41,
     "metadata": {},
     "output_type": "execute_result"
    }
   ],
   "source": [
    "# For creating a fix length\n",
    "np.linspace(0,2, 5)"
   ]
  },
  {
   "cell_type": "code",
   "execution_count": 11,
   "metadata": {},
   "outputs": [
    {
     "data": {
      "text/plain": [
       "array([[1, 2, 3, 1, 2, 3, 1, 2, 3, 1, 2, 3, 1, 2, 3],\n",
       "       [1, 2, 3, 1, 2, 3, 1, 2, 3, 1, 2, 3, 1, 2, 3],\n",
       "       [1, 2, 3, 1, 2, 3, 1, 2, 3, 1, 2, 3, 1, 2, 3],\n",
       "       [1, 2, 3, 1, 2, 3, 1, 2, 3, 1, 2, 3, 1, 2, 3]])"
      ]
     },
     "execution_count": 11,
     "metadata": {},
     "output_type": "execute_result"
    }
   ],
   "source": [
    "# for repeating the same list of values\n",
    "array = [1,2,3]\n",
    "np.tile(array, (4, 5))    # repeating 5 times in 4 columns"
   ]
  },
  {
   "cell_type": "markdown",
   "metadata": {},
   "source": [
    "---"
   ]
  },
  {
   "cell_type": "markdown",
   "metadata": {},
   "source": [
    "## Structure of Array\n",
    "\n",
    "**How to find out details of the arrays:**\n",
    "\n",
    "- `size`: Check the size of the array.\n",
    "- `dtype`: finds the type of the arrays.\n",
    "- `shape`: shows shape of array (n x m).\n",
    "- `itemsize`: Memory used by each array element in bytes.\n",
    "- `ndim`: Number of axes (or dimensions)\n"
   ]
  },
  {
   "cell_type": "code",
   "execution_count": 8,
   "metadata": {},
   "outputs": [
    {
     "data": {
      "text/plain": [
       "array([[3, 6, 7],\n",
       "       [5, 3, 3],\n",
       "       [3, 4, 9],\n",
       "       [3, 5, 3],\n",
       "       [9, 4, 1]])"
      ]
     },
     "execution_count": 8,
     "metadata": {},
     "output_type": "execute_result"
    }
   ],
   "source": [
    "array = np.random.randint(1, 10 , (5,3))\n",
    "array"
   ]
  },
  {
   "cell_type": "code",
   "execution_count": 11,
   "metadata": {},
   "outputs": [
    {
     "name": "stdout",
     "output_type": "stream",
     "text": [
      "15\n",
      "int32\n",
      "(5, 3)\n",
      "4\n",
      "2\n"
     ]
    }
   ],
   "source": [
    "print(array.size)\n",
    "print(array.dtype)\n",
    "print(array.shape)\n",
    "print(array.itemsize)\n",
    "print(array.ndim)"
   ]
  },
  {
   "cell_type": "code",
   "execution_count": 27,
   "metadata": {},
   "outputs": [
    {
     "name": "stdout",
     "output_type": "stream",
     "text": [
      "[ 0  1  2  3  4  5  6  7  8  9 10 11] \n",
      "-------------\n",
      "\n",
      "[[ 0  1  2]\n",
      " [ 3  4  5]\n",
      " [ 6  7  8]\n",
      " [ 9 10 11]] \n",
      "-------------\n",
      "\n",
      "[[[ 0  1]\n",
      "  [ 2  3]\n",
      "  [ 4  5]]\n",
      "\n",
      " [[ 6  7]\n",
      "  [ 8  9]\n",
      "  [10 11]]]\n"
     ]
    }
   ],
   "source": [
    "array_3d = np.arange(12)\n",
    "print(array_3d, '\\n-------------\\n')\n",
    "\n",
    "# for reshaping it, we can use `reshape(#No. elements in sub-sub-list, #No. lists in sub-list, #No. of lists)` \n",
    "print(array_3d.reshape(4,3), '\\n-------------\\n')\n",
    "print(array_3d.reshape(2,3,2))\n"
   ]
  },
  {
   "cell_type": "code",
   "execution_count": 32,
   "metadata": {},
   "outputs": [
    {
     "data": {
      "text/plain": [
       "array([[ 0,  1,  2],\n",
       "       [ 3,  4,  5],\n",
       "       [ 6,  7,  8],\n",
       "       [ 9, 10, 11]])"
      ]
     },
     "execution_count": 32,
     "metadata": {},
     "output_type": "execute_result"
    }
   ],
   "source": [
    "#We can also `resizing` the array\n",
    "matrix = np.resize(array_3d, (4,3)) \n",
    "matrix"
   ]
  },
  {
   "cell_type": "code",
   "execution_count": 33,
   "metadata": {},
   "outputs": [
    {
     "data": {
      "text/plain": [
       "array([[ 0,  3,  6,  9],\n",
       "       [ 1,  4,  7, 10],\n",
       "       [ 2,  5,  8, 11]])"
      ]
     },
     "execution_count": 33,
     "metadata": {},
     "output_type": "execute_result"
    }
   ],
   "source": [
    "# Transpose of a matrix\n",
    "matrix.T"
   ]
  },
  {
   "cell_type": "code",
   "execution_count": 37,
   "metadata": {},
   "outputs": [
    {
     "data": {
      "text/plain": [
       "array([ 1,  2,  3,  4,  5,  6,  7,  8,  9, 10, 11])"
      ]
     },
     "execution_count": 37,
     "metadata": {},
     "output_type": "execute_result"
    }
   ],
   "source": [
    "#deleting element of matirx\n",
    "np.delete(matrix, matrix[0][0])"
   ]
  },
  {
   "cell_type": "markdown",
   "metadata": {},
   "source": [
    "---"
   ]
  },
  {
   "cell_type": "markdown",
   "metadata": {},
   "source": [
    "## Split / Join / Stack Array\n",
    "---\n",
    "- `np.r_[]` : Arange array **row-wise**.\n",
    "- `np.c_[]`: Arange arrays **column-wise**.\n",
    "- `np.concatenate()` : Concatenate two arrays.\n",
    "- `np.hstack()`: Stack arrays **horizontally**.\n",
    "- `np.vstack()`: Stack arrays **Vertically**."
   ]
  },
  {
   "cell_type": "code",
   "execution_count": 4,
   "metadata": {},
   "outputs": [
    {
     "name": "stdout",
     "output_type": "stream",
     "text": [
      "[[7 6 0 6 2]\n",
      " [7 5 4 2 6]\n",
      " [8 7 7 7 1]\n",
      " [4 9 4 9 4]\n",
      " [4 6 5 4 3]]\n",
      "\n",
      "[[9 1 0 8 6]\n",
      " [5 7 5 8 2]\n",
      " [3 2 3 2 8]\n",
      " [4 5 5 3 1]\n",
      " [7 5 1 7 9]]\n"
     ]
    }
   ],
   "source": [
    "array1 = np.random.randint(0, 10, (5,5))\n",
    "array2 = np.random.randint(0, 10, (5,5))\n",
    "print(array1)\n",
    "print()\n",
    "print(array2)"
   ]
  },
  {
   "cell_type": "code",
   "execution_count": 5,
   "metadata": {},
   "outputs": [
    {
     "data": {
      "text/plain": [
       "array([[7, 6, 0, 6, 2],\n",
       "       [7, 5, 4, 2, 6],\n",
       "       [8, 7, 7, 7, 1],\n",
       "       [4, 9, 4, 9, 4],\n",
       "       [4, 6, 5, 4, 3],\n",
       "       [9, 1, 0, 8, 6],\n",
       "       [5, 7, 5, 8, 2],\n",
       "       [3, 2, 3, 2, 8],\n",
       "       [4, 5, 5, 3, 1],\n",
       "       [7, 5, 1, 7, 9]])"
      ]
     },
     "execution_count": 5,
     "metadata": {},
     "output_type": "execute_result"
    }
   ],
   "source": [
    "np.r_[(array1, array2)]"
   ]
  },
  {
   "cell_type": "code",
   "execution_count": 6,
   "metadata": {},
   "outputs": [
    {
     "data": {
      "text/plain": [
       "array([[7, 6, 0, 6, 2, 9, 1, 0, 8, 6],\n",
       "       [7, 5, 4, 2, 6, 5, 7, 5, 8, 2],\n",
       "       [8, 7, 7, 7, 1, 3, 2, 3, 2, 8],\n",
       "       [4, 9, 4, 9, 4, 4, 5, 5, 3, 1],\n",
       "       [4, 6, 5, 4, 3, 7, 5, 1, 7, 9]])"
      ]
     },
     "execution_count": 6,
     "metadata": {},
     "output_type": "execute_result"
    }
   ],
   "source": [
    "np.c_[(array1, array2)]\n"
   ]
  },
  {
   "cell_type": "code",
   "execution_count": 17,
   "metadata": {},
   "outputs": [
    {
     "data": {
      "text/plain": [
       "array([[7, 6, 0, 6, 2],\n",
       "       [7, 5, 4, 2, 6],\n",
       "       [8, 7, 7, 7, 1],\n",
       "       [4, 9, 4, 9, 4],\n",
       "       [4, 6, 5, 4, 3],\n",
       "       [9, 1, 0, 8, 6],\n",
       "       [5, 7, 5, 8, 2],\n",
       "       [3, 2, 3, 2, 8],\n",
       "       [4, 5, 5, 3, 1],\n",
       "       [7, 5, 1, 7, 9]])"
      ]
     },
     "execution_count": 17,
     "metadata": {},
     "output_type": "execute_result"
    }
   ],
   "source": [
    "np.concatenate([array1, array2])"
   ]
  },
  {
   "cell_type": "code",
   "execution_count": 18,
   "metadata": {},
   "outputs": [
    {
     "data": {
      "text/plain": [
       "array([[7, 6, 0, 6, 2, 9, 1, 0, 8, 6],\n",
       "       [7, 5, 4, 2, 6, 5, 7, 5, 8, 2],\n",
       "       [8, 7, 7, 7, 1, 3, 2, 3, 2, 8],\n",
       "       [4, 9, 4, 9, 4, 4, 5, 5, 3, 1],\n",
       "       [4, 6, 5, 4, 3, 7, 5, 1, 7, 9]])"
      ]
     },
     "execution_count": 18,
     "metadata": {},
     "output_type": "execute_result"
    }
   ],
   "source": [
    "np.hstack([array1, array2])"
   ]
  },
  {
   "cell_type": "code",
   "execution_count": 19,
   "metadata": {},
   "outputs": [
    {
     "data": {
      "text/plain": [
       "array([[7, 6, 0, 6, 2],\n",
       "       [7, 5, 4, 2, 6],\n",
       "       [8, 7, 7, 7, 1],\n",
       "       [4, 9, 4, 9, 4],\n",
       "       [4, 6, 5, 4, 3],\n",
       "       [9, 1, 0, 8, 6],\n",
       "       [5, 7, 5, 8, 2],\n",
       "       [3, 2, 3, 2, 8],\n",
       "       [4, 5, 5, 3, 1],\n",
       "       [7, 5, 1, 7, 9]])"
      ]
     },
     "execution_count": 19,
     "metadata": {},
     "output_type": "execute_result"
    }
   ],
   "source": [
    "np.vstack([array1, array2])"
   ]
  }
 ],
 "metadata": {
  "kernelspec": {
   "display_name": "Python 3",
   "language": "python",
   "name": "python3"
  },
  "language_info": {
   "codemirror_mode": {
    "name": "ipython",
    "version": 3
   },
   "file_extension": ".py",
   "mimetype": "text/x-python",
   "name": "python",
   "nbconvert_exporter": "python",
   "pygments_lexer": "ipython3",
   "version": "3.8.5"
  }
 },
 "nbformat": 4,
 "nbformat_minor": 4
}
